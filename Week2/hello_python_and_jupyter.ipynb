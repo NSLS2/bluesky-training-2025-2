{
 "cells": [
  {
   "cell_type": "markdown",
   "metadata": {},
   "source": [
    "# Hello Python and Jupyter\n",
    "\n",
    "In this notebook you will:\n",
    "\n",
    "* Learn how to use a Jupyter notebook such as this one\n",
    "* Get a very quick tour of Python syntax and scientific libraries\n",
    "* Learn some IPython features that we will use in later tutorials"
   ]
  },
  {
   "cell_type": "markdown",
   "metadata": {},
   "source": [
    "## What is this?\n",
    "\n",
    "This is Jupyter notebook running in a personal \"container\" just for you, stocked with example data, demos, and tutorials that you can run and modify. All of the software you'll need is already installed and ready to use."
   ]
  },
  {
   "cell_type": "markdown",
   "metadata": {},
   "source": [
    "## Run some Python code!\n",
    "\n",
    "To run the code below:\n",
    "\n",
    "1. Click on the cell to select it.\n",
    "2. Press `SHIFT+ENTER` on your keyboard or press the <button class='btn btn-default'><span class='fa fa-step-forward'></span > Run</button> button in the toolbar above (in the toolbar above!)."
   ]
  },
  {
   "cell_type": "code",
   "execution_count": 1,
   "metadata": {},
   "outputs": [
    {
     "data": {
      "text/plain": [
       "2"
      ]
     },
     "execution_count": 1,
     "metadata": {},
     "output_type": "execute_result"
    }
   ],
   "source": [
    "1 + 1"
   ]
  },
  {
   "cell_type": "markdown",
   "metadata": {},
   "source": [
    "Notice that you can edit a cell and re-run it."
   ]
  },
  {
   "cell_type": "markdown",
   "metadata": {},
   "source": [
    "The notebook document mixes executable code and narrative content. It supports text, links, embedded videos, and even typeset math: $\\int_{-\\infty}^\\infty x\\, d x = \\frac{x^2}{2}$"
   ]
  },
  {
   "cell_type": "markdown",
   "metadata": {},
   "source": [
    "## Whirlwind Tour of Python Syntax\n",
    "\n",
    "### Lists"
   ]
  },
  {
   "cell_type": "markdown",
   "metadata": {},
   "source": [
    "The cell below defines a list called stuff with 4 elements. Python does not require lists to be of the same type.\n",
    "\n",
    "#### Exercise:\n",
    "* Adding more elements to the list (append, extend, insert, +)\n",
    "* Try printing elements of the list using slices"
   ]
  },
  {
   "cell_type": "code",
   "execution_count": 2,
   "metadata": {},
   "outputs": [],
   "source": [
    "stuff = [4, 'a', 8.3, True]"
   ]
  },
  {
   "cell_type": "markdown",
   "metadata": {},
   "source": [
    "To index the first element use [0]. The final element can be indexed by [-1]"
   ]
  },
  {
   "cell_type": "code",
   "execution_count": 3,
   "metadata": {},
   "outputs": [
    {
     "data": {
      "text/plain": [
       "4"
      ]
     },
     "execution_count": 3,
     "metadata": {},
     "output_type": "execute_result"
    }
   ],
   "source": [
    "stuff[0]  # the first element"
   ]
  },
  {
   "cell_type": "code",
   "execution_count": 4,
   "metadata": {},
   "outputs": [
    {
     "data": {
      "text/plain": [
       "True"
      ]
     },
     "execution_count": 4,
     "metadata": {},
     "output_type": "execute_result"
    }
   ],
   "source": [
    "stuff[-1]  # the last element"
   ]
  },
  {
   "cell_type": "markdown",
   "metadata": {},
   "source": [
    "### Dictionaries (Mappings)\n",
    "Dictonaries are used a lot when using Bluesky. One example is the RE.md dictionary which holds the metadata. The type is a RedisJSONDict.\n",
    "\n",
    "#### Exercise: edit the value of a prexisting key in the dictionary"
   ]
  },
  {
   "cell_type": "code",
   "execution_count": 5,
   "metadata": {},
   "outputs": [],
   "source": [
    "d = {'a': 1, 'b': 2}"
   ]
  },
  {
   "cell_type": "code",
   "execution_count": 6,
   "metadata": {},
   "outputs": [
    {
     "data": {
      "text/plain": [
       "{'a': 1, 'b': 2}"
      ]
     },
     "execution_count": 6,
     "metadata": {},
     "output_type": "execute_result"
    }
   ],
   "source": [
    "d"
   ]
  },
  {
   "cell_type": "code",
   "execution_count": 7,
   "metadata": {},
   "outputs": [
    {
     "data": {
      "text/plain": [
       "2"
      ]
     },
     "execution_count": 7,
     "metadata": {},
     "output_type": "execute_result"
    }
   ],
   "source": [
    "d['b']"
   ]
  },
  {
   "cell_type": "code",
   "execution_count": 8,
   "metadata": {},
   "outputs": [],
   "source": [
    "d['c'] = 3"
   ]
  },
  {
   "cell_type": "code",
   "execution_count": 9,
   "metadata": {},
   "outputs": [
    {
     "data": {
      "text/plain": [
       "{'a': 1, 'b': 2, 'c': 3}"
      ]
     },
     "execution_count": 9,
     "metadata": {},
     "output_type": "execute_result"
    }
   ],
   "source": [
    "d"
   ]
  },
  {
   "cell_type": "markdown",
   "metadata": {},
   "source": [
    "**TIP:** For large or nested dictionaries, it is more convient to use `list()`.  Often custom python objects can be interrogated in the same manner."
   ]
  },
  {
   "cell_type": "code",
   "execution_count": 10,
   "metadata": {},
   "outputs": [
    {
     "data": {
      "text/plain": [
       "['a', 'b', 'c']"
      ]
     },
     "execution_count": 10,
     "metadata": {},
     "output_type": "execute_result"
    }
   ],
   "source": [
    "list(d)"
   ]
  },
  {
   "cell_type": "markdown",
   "metadata": {},
   "source": [
    "Using a for loop also provides a clear display for the keys and values in the dictionary."
   ]
  },
  {
   "cell_type": "code",
   "execution_count": 11,
   "metadata": {},
   "outputs": [
    {
     "name": "stdout",
     "output_type": "stream",
     "text": [
      "a: 1\n",
      "b: 2\n",
      "c: 3\n"
     ]
    }
   ],
   "source": [
    "for key, value in d.items():\n",
    "    print(f\"{key}: {value}\")"
   ]
  },
  {
   "cell_type": "markdown",
   "metadata": {},
   "source": [
    "### Functions\n",
    "\n",
    "#### Exercise:\n",
    "* run the following 2 cells and see the output of `f?`\n",
    "* add a doc string to the function `f`, a doc string is started with `\"\"\"`\n",
    "* re run the two cells and see what changes"
   ]
  },
  {
   "cell_type": "code",
   "execution_count": 12,
   "metadata": {},
   "outputs": [],
   "source": [
    "def f(a, b):\n",
    "    return a + b"
   ]
  },
  {
   "cell_type": "markdown",
   "metadata": {},
   "source": [
    "In IPython `f?` or `?f` display information about `f`, such as its arguments."
   ]
  },
  {
   "cell_type": "code",
   "execution_count": 13,
   "metadata": {},
   "outputs": [
    {
     "name": "stdout",
     "output_type": "stream",
     "text": [
      "\u001b[31mSignature:\u001b[39m f(a, b)\n",
      "\u001b[31mDocstring:\u001b[39m <no docstring>\n",
      "\u001b[31mFile:\u001b[39m      /var/folders/yn/ngdxsm453m3g9t3srb4x3m280000gp/T/ipykernel_97762/1199521597.py\n",
      "\u001b[31mType:\u001b[39m      function"
     ]
    }
   ],
   "source": [
    "f?"
   ]
  },
  {
   "cell_type": "markdown",
   "metadata": {},
   "source": [
    "If the function includes inline documentation (a \"doc string\") then `?` displays that as well."
   ]
  },
  {
   "cell_type": "code",
   "execution_count": 14,
   "metadata": {},
   "outputs": [
    {
     "name": "stdout",
     "output_type": "stream",
     "text": [
      "\u001b[31mSignature:\u001b[39m f(a, b)\n",
      "\u001b[31mDocstring:\u001b[39m <no docstring>\n",
      "\u001b[31mSource:\u001b[39m   \n",
      "\u001b[38;5;28;01mdef\u001b[39;00m f(a, b):\n",
      "    \u001b[38;5;28;01mreturn\u001b[39;00m a + b\n",
      "\u001b[31mFile:\u001b[39m      /var/folders/yn/ngdxsm453m3g9t3srb4x3m280000gp/T/ipykernel_97762/1199521597.py\n",
      "\u001b[31mType:\u001b[39m      function"
     ]
    }
   ],
   "source": [
    "f??"
   ]
  },
  {
   "cell_type": "markdown",
   "metadata": {},
   "source": [
    "Arguments can have default values."
   ]
  },
  {
   "cell_type": "code",
   "execution_count": 15,
   "metadata": {},
   "outputs": [],
   "source": [
    "def f(a, b, c=1):\n",
    "    return (a + b) * c"
   ]
  },
  {
   "cell_type": "code",
   "execution_count": 16,
   "metadata": {},
   "outputs": [
    {
     "data": {
      "text/plain": [
       "3"
      ]
     },
     "execution_count": 16,
     "metadata": {},
     "output_type": "execute_result"
    }
   ],
   "source": [
    "f(1, 2)"
   ]
  },
  {
   "cell_type": "code",
   "execution_count": 17,
   "metadata": {},
   "outputs": [
    {
     "data": {
      "text/plain": [
       "9"
      ]
     },
     "execution_count": 17,
     "metadata": {},
     "output_type": "execute_result"
    }
   ],
   "source": [
    "f(1, 2, 3)"
   ]
  },
  {
   "cell_type": "markdown",
   "metadata": {},
   "source": [
    "Any argument can be passed by keyword. This is slower to type but clearer to read later."
   ]
  },
  {
   "cell_type": "code",
   "execution_count": 18,
   "metadata": {},
   "outputs": [
    {
     "data": {
      "text/plain": [
       "9"
      ]
     },
     "execution_count": 18,
     "metadata": {},
     "output_type": "execute_result"
    }
   ],
   "source": [
    "f(a=1, b=2, c=3)"
   ]
  },
  {
   "cell_type": "markdown",
   "metadata": {},
   "source": [
    "If using keywords, you don't have to remember the argument order."
   ]
  },
  {
   "cell_type": "code",
   "execution_count": 19,
   "metadata": {},
   "outputs": [
    {
     "data": {
      "text/plain": [
       "9"
      ]
     },
     "execution_count": 19,
     "metadata": {},
     "output_type": "execute_result"
    }
   ],
   "source": [
    "f(c=3, a=1, b=2)"
   ]
  },
  {
   "cell_type": "markdown",
   "metadata": {},
   "source": [
    "## Classes\n",
    "Classes will be used for Ophyd objects. The class is the blueprint for the object. It holds data and defines functions. This improves reusability and readability."
   ]
  },
  {
   "cell_type": "code",
   "execution_count": 20,
   "metadata": {},
   "outputs": [],
   "source": [
    "class Det:\n",
    "    def __init__(self, name, type):\n",
    "        self.name = name\n",
    "        self.type = type\n",
    "\n",
    "    def __repr__(self):\n",
    "        return f\"Det({self.name}, {self.type})\"\n",
    "    \n",
    "    def get_name(self):\n",
    "        return self.name\n",
    "    \n",
    "    def get_type(self): \n",
    "        return self.type"
   ]
  },
  {
   "cell_type": "code",
   "execution_count": 21,
   "metadata": {},
   "outputs": [],
   "source": [
    "my_det = Det('P800K', 'pilatus')"
   ]
  },
  {
   "cell_type": "code",
   "execution_count": 22,
   "metadata": {},
   "outputs": [
    {
     "data": {
      "text/plain": [
       "'Det(P800K, pilatus)'"
      ]
     },
     "execution_count": 22,
     "metadata": {},
     "output_type": "execute_result"
    }
   ],
   "source": [
    "my_det.__repr__()"
   ]
  },
  {
   "cell_type": "code",
   "execution_count": 23,
   "metadata": {},
   "outputs": [
    {
     "data": {
      "text/plain": [
       "'P800K'"
      ]
     },
     "execution_count": 23,
     "metadata": {},
     "output_type": "execute_result"
    }
   ],
   "source": [
    "my_det.get_name()"
   ]
  },
  {
   "cell_type": "code",
   "execution_count": 24,
   "metadata": {},
   "outputs": [
    {
     "data": {
      "text/plain": [
       "'pilatus'"
      ]
     },
     "execution_count": 24,
     "metadata": {},
     "output_type": "execute_result"
    }
   ],
   "source": [
    "my_det.get_type()"
   ]
  },
  {
   "cell_type": "markdown",
   "metadata": {},
   "source": [
    "## Fast numerical computation using numpy\n",
    "\n",
    "For numerical computing, a numpy array is more useful and performant than a plain list."
   ]
  },
  {
   "cell_type": "code",
   "execution_count": 25,
   "metadata": {},
   "outputs": [],
   "source": [
    "import numpy as np\n",
    "\n",
    "a = np.array([1, 2, 3, 4])"
   ]
  },
  {
   "cell_type": "code",
   "execution_count": 26,
   "metadata": {},
   "outputs": [
    {
     "data": {
      "text/plain": [
       "array([1, 2, 3, 4])"
      ]
     },
     "execution_count": 26,
     "metadata": {},
     "output_type": "execute_result"
    }
   ],
   "source": [
    "a"
   ]
  },
  {
   "cell_type": "code",
   "execution_count": 27,
   "metadata": {},
   "outputs": [
    {
     "data": {
      "text/plain": [
       "np.float64(2.5)"
      ]
     },
     "execution_count": 27,
     "metadata": {},
     "output_type": "execute_result"
    }
   ],
   "source": [
    "np.mean(a)"
   ]
  },
  {
   "cell_type": "code",
   "execution_count": 28,
   "metadata": {},
   "outputs": [
    {
     "data": {
      "text/plain": [
       "array([ 0.84147098,  0.90929743,  0.14112001, -0.7568025 ])"
      ]
     },
     "execution_count": 28,
     "metadata": {},
     "output_type": "execute_result"
    }
   ],
   "source": [
    "np.sin(a)"
   ]
  },
  {
   "cell_type": "markdown",
   "metadata": {},
   "source": [
    "We'll use the IPython `%%timeit` magic to measure the speed difference between built-in Python lists and numpy arrays."
   ]
  },
  {
   "cell_type": "code",
   "execution_count": 29,
   "metadata": {},
   "outputs": [
    {
     "name": "stdout",
     "output_type": "stream",
     "text": [
      "75.5 μs ± 304 ns per loop (mean ± std. dev. of 7 runs, 10,000 loops each)\n"
     ]
    }
   ],
   "source": [
    "%%timeit\n",
    "\n",
    "big = list(range(10000))  # setup line, not timed\n",
    "sum(big)  # timed"
   ]
  },
  {
   "cell_type": "code",
   "execution_count": 30,
   "metadata": {},
   "outputs": [
    {
     "name": "stdout",
     "output_type": "stream",
     "text": [
      "3.87 μs ± 18.2 ns per loop (mean ± std. dev. of 7 runs, 100,000 loops each)\n"
     ]
    }
   ],
   "source": [
    "%%timeit\n",
    "\n",
    "big = np.arange(10000)  # setup line, not timed\n",
    "np.sum(big)  # timed"
   ]
  },
  {
   "cell_type": "markdown",
   "metadata": {},
   "source": [
    "If a single loops is desired for a longer computation, use `%time` on the desired line."
   ]
  },
  {
   "cell_type": "code",
   "execution_count": 31,
   "metadata": {},
   "outputs": [
    {
     "name": "stdout",
     "output_type": "stream",
     "text": [
      "CPU times: user 13 μs, sys: 1 μs, total: 14 μs\n",
      "Wall time: 14.8 μs\n"
     ]
    },
    {
     "data": {
      "text/plain": [
       "np.int64(49995000)"
      ]
     },
     "execution_count": 31,
     "metadata": {},
     "output_type": "execute_result"
    }
   ],
   "source": [
    "big = np.arange(10000)  # setup line, not timed\n",
    "%time np.sum(big)  # timed"
   ]
  },
  {
   "cell_type": "markdown",
   "metadata": {},
   "source": [
    "## Plotting using matplotlib\n",
    "\n",
    "In an interactive setting, this will show a canvas that we can pan and zoom. (Keep reading for what we can do in a non-interactive setting, such as the static web page version of this tutorial.)"
   ]
  },
  {
   "cell_type": "code",
   "execution_count": 32,
   "metadata": {},
   "outputs": [
    {
     "data": {
      "text/plain": [
       "<Figure size 640x480 with 0 Axes>"
      ]
     },
     "execution_count": 32,
     "metadata": {},
     "output_type": "execute_result"
    },
    {
     "data": {
      "application/vnd.jupyter.widget-view+json": {
       "model_id": "464cd6d40bfe4bb6bf967221b3c793f7",
       "version_major": 2,
       "version_minor": 0
      },
      "image/png": "[encoded data removed]",
      "text/html": [
       "\n",
       "            <div style=\"display: inline-block;\">\n",
       "                <div class=\"jupyter-widgets widget-label\" style=\"text-align: center;\">\n",
       "                    Figure\n",
       "                </div>\n",
       "                <img src='data:image/png;base64,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' width=640.0/>\n",
       "            </div>\n",
       "        "
      ],
      "text/plain": [
       "Canvas(toolbar=Toolbar(toolitems=[('Home', 'Reset original view', 'home', 'home'), ('Back', 'Back to previous …"
      ]
     },
     "metadata": {},
     "output_type": "display_data"
    }
   ],
   "source": [
    "# We just have to do this line once, before we do any plotting.\n",
    "%matplotlib widget\n",
    "import matplotlib.pyplot as plt\n",
    "\n",
    "plt.figure()"
   ]
  },
  {
   "cell_type": "markdown",
   "metadata": {},
   "source": [
    "We can plot some data like so. In an interactive setting, this will update the canvas above."
   ]
  },
  {
   "cell_type": "code",
   "execution_count": 33,
   "metadata": {},
   "outputs": [
    {
     "data": {
      "text/plain": [
       "[<matplotlib.lines.Line2D at 0x12fb95010>]"
      ]
     },
     "execution_count": 33,
     "metadata": {},
     "output_type": "execute_result"
    }
   ],
   "source": [
    "plt.plot([1, 1, 2, 3, 5, 8])"
   ]
  },
  {
   "cell_type": "markdown",
   "metadata": {},
   "source": [
    "And we can show a noninteractive snapshot of the state of the figure at this point by display the figure itself."
   ]
  },
  {
   "cell_type": "code",
   "execution_count": 34,
   "metadata": {},
   "outputs": [
    {
     "data": {
      "image/png": "[encoded data removed]",
      "text/plain": [
       "<Figure size 640x480 with 1 Axes>"
      ]
     },
     "execution_count": 34,
     "metadata": {},
     "output_type": "execute_result"
    }
   ],
   "source": [
    "plt.gcf()"
   ]
  },
  {
   "cell_type": "markdown",
   "metadata": {},
   "source": [
    "Displaying `plt.gcf()` (or any `Figure`) shows a non-interactive snapshot of a figure. Displaying `plt.gcf().canvas` or any `Canvas` gives us another interactive, live-updating view of the figure."
   ]
  },
  {
   "cell_type": "markdown",
   "metadata": {},
   "source": [
    "## Interrupting the IPython Kernel\n",
    "\n",
    "Run this cell, and then click the square 'stop' button in the notebook toolbar to interrupt the infinite loop.\n",
    "\n",
    "(This is equivalent to Ctrl+C in a terminal.)"
   ]
  },
  {
   "cell_type": "code",
   "execution_count": 35,
   "metadata": {},
   "outputs": [],
   "source": [
    "# This runs forever -- hit the square 'stop' button in Jupyter to interrupt\n",
    "# The following is \"commented out\". Un-comment the lines below to run them.\n",
    "# while True:\n",
    "#     continue"
   ]
  },
  {
   "cell_type": "markdown",
   "metadata": {},
   "source": [
    "## \"Magics\""
   ]
  },
  {
   "cell_type": "markdown",
   "metadata": {},
   "source": [
    "The code entered here is interpreted by _IPython_, which extends Python by adding some conveniences that help you make the most out of using Python interactively. It was originally created by a physicist, Fernando Perez.\n",
    "\n",
    "\"Magics\" are special IPython syntax. They are not part of the Python language, and they should not be used in scripts or libraries; they are meant for interactive use.\n",
    "\n",
    "The `%run` magic executes a Python script."
   ]
  },
  {
   "cell_type": "code",
   "execution_count": 36,
   "metadata": {},
   "outputs": [
    {
     "name": "stdout",
     "output_type": "stream",
     "text": [
      "hello world\n"
     ]
    },
    {
     "data": {
      "application/vnd.jupyter.widget-view+json": {
       "model_id": "464cd6d40bfe4bb6bf967221b3c793f7",
       "version_major": 2,
       "version_minor": 0
      },
      "image/png": "[encoded data removed]",
      "text/html": [
       "\n",
       "            <div style=\"display: inline-block;\">\n",
       "                <div class=\"jupyter-widgets widget-label\" style=\"text-align: center;\">\n",
       "                    Figure\n",
       "                </div>\n",
       "                <img src='data:image/png;base64,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' width=640.0/>\n",
       "            </div>\n",
       "        "
      ],
      "text/plain": [
       "Canvas(toolbar=Toolbar(toolitems=[('Home', 'Reset original view', 'home', 'home'), ('Back', 'Back to previous …"
      ]
     },
     "metadata": {},
     "output_type": "display_data"
    }
   ],
   "source": [
    "%run scripts/hello_world.py"
   ]
  },
  {
   "cell_type": "markdown",
   "metadata": {},
   "source": [
    "When the script completes, any variables defined in that script will be dumepd into our namespace. For example (as we will see below), this script happens to define a variable named `message`. Now that we have `%run` the script, `message` is in our namespace."
   ]
  },
  {
   "cell_type": "code",
   "execution_count": 37,
   "metadata": {},
   "outputs": [
    {
     "data": {
      "text/plain": [
       "'hello world'"
      ]
     },
     "execution_count": 37,
     "metadata": {},
     "output_type": "execute_result"
    }
   ],
   "source": [
    "message"
   ]
  },
  {
   "cell_type": "markdown",
   "metadata": {},
   "source": [
    "This behavior can be confusing, in the sense that the reader has to do some digging to figure out where ``message`` was defined and what it is, but it has its uses. Throughout this tutorial, we will use the `%run` magic as a shorthand for running boilerplate configuration code and defining variables representing hardware."
   ]
  },
  {
   "cell_type": "markdown",
   "metadata": {},
   "source": [
    "The `%load` magic copies the contents of a file into a cell but does not run it."
   ]
  },
  {
   "cell_type": "code",
   "execution_count": 38,
   "metadata": {},
   "outputs": [
    {
     "name": "stdout",
     "output_type": "stream",
     "text": [
      "hello world\n"
     ]
    }
   ],
   "source": [
    "# %load scripts/hello_world.py\n",
    "message = 'hello world'\n",
    "print(message)\n"
   ]
  },
  {
   "cell_type": "markdown",
   "metadata": {},
   "source": [
    "If you get an error, `%debug` is a useful tool"
   ]
  },
  {
   "cell_type": "code",
   "execution_count": 39,
   "metadata": {},
   "outputs": [
    {
     "ename": "TypeError",
     "evalue": "f() got an unexpected keyword argument 'd'",
     "output_type": "error",
     "traceback": [
      "\u001b[31m---------------------------------------------------------------------------\u001b[39m",
      "\u001b[31mTypeError\u001b[39m                                 Traceback (most recent call last)",
      "\u001b[36mCell\u001b[39m\u001b[36m \u001b[39m\u001b[32mIn[39]\u001b[39m\u001b[32m, line 1\u001b[39m\n\u001b[32m----> \u001b[39m\u001b[32m1\u001b[39m f(a=\u001b[32m1\u001b[39m, b=\u001b[32m2\u001b[39m, c=\u001b[32m3\u001b[39m, d=\u001b[32m4\u001b[39m)\n",
      "\u001b[31mTypeError\u001b[39m: f() got an unexpected keyword argument 'd'"
     ]
    }
   ],
   "source": [
    "f(a=1, b=2, c=3, d=4)"
   ]
  },
  {
   "cell_type": "code",
   "execution_count": null,
   "metadata": {},
   "outputs": [],
   "source": [
    "# %debug"
   ]
  },
  {
   "cell_type": "markdown",
   "metadata": {},
   "source": [
    "Execute the cell a second time to actually run the code. Throughout this tutorial, we use the `%load` magic to load solutions to exercises."
   ]
  },
  {
   "cell_type": "markdown",
   "metadata": {},
   "source": [
    "## System Shell Access\n",
    "\n",
    "Any input line beginning with a `!` character is passed verbatim (minus the `!`, of course) to the underlying operating system."
   ]
  },
  {
   "cell_type": "code",
   "execution_count": null,
   "metadata": {},
   "outputs": [],
   "source": [
    "!ls"
   ]
  },
  {
   "cell_type": "markdown",
   "metadata": {},
   "source": [
    "### Testing using Pytest\n",
    "Testing your code strengthens the quality and verifies new code does not make regressions. It is good practice to add tests after editing or adding new code to projects."
   ]
  },
  {
   "cell_type": "code",
   "execution_count": null,
   "metadata": {},
   "outputs": [],
   "source": [
    "def dec(x):\n",
    "    return x - 1"
   ]
  },
  {
   "cell_type": "code",
   "execution_count": null,
   "metadata": {},
   "outputs": [],
   "source": [
    "def test_dec():\n",
    "    dec(2) == 1\n",
    "    dec(3) == 1"
   ]
  }
 ],
 "metadata": {
  "kernelspec": {
   "display_name": "training",
   "language": "python",
   "name": "python3"
  },
  "language_info": {
   "codemirror_mode": {
    "name": "ipython",
    "version": 3
   },
   "file_extension": ".py",
   "mimetype": "text/x-python",
   "name": "python",
   "nbconvert_exporter": "python",
   "pygments_lexer": "ipython3",
   "version": "3.11.0"
  }
 },
 "nbformat": 4,
 "nbformat_minor": 4
}
